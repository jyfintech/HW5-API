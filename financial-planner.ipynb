{
 "cells": [
  {
   "cell_type": "markdown",
   "metadata": {},
   "source": [
    "# Unit 5 - Financial Planning\n"
   ]
  },
  {
   "cell_type": "code",
   "execution_count": 1,
   "metadata": {},
   "outputs": [],
   "source": [
    "# Initial imports\n",
    "import os\n",
    "import requests\n",
    "import pandas as pd\n",
    "from dotenv import load_dotenv\n",
    "import alpaca_trade_api as tradeapi\n",
    "from MCForecastTools import MCSimulation\n",
    "\n",
    "%matplotlib inline"
   ]
  },
  {
   "cell_type": "code",
   "execution_count": 2,
   "metadata": {},
   "outputs": [
    {
     "data": {
      "text/plain": [
       "True"
      ]
     },
     "execution_count": 2,
     "metadata": {},
     "output_type": "execute_result"
    }
   ],
   "source": [
    "# Load .env enviroment variables\n",
    "load_dotenv()"
   ]
  },
  {
   "cell_type": "markdown",
   "metadata": {},
   "source": [
    "## Part 1 - Personal Finance Planner"
   ]
  },
  {
   "cell_type": "markdown",
   "metadata": {},
   "source": [
    "### Collect Crypto Prices Using the `requests` Library"
   ]
  },
  {
   "cell_type": "code",
   "execution_count": 3,
   "metadata": {},
   "outputs": [],
   "source": [
    "# Set current amount of crypto assets\n",
    "my_btc = 1.2\n",
    "my_eth = 5.3"
   ]
  },
  {
   "cell_type": "code",
   "execution_count": 4,
   "metadata": {},
   "outputs": [],
   "source": [
    "# Crypto API URLs\n",
    "btc_url = \"https://api.alternative.me/v2/ticker/Bitcoin/?convert=CAD\"\n",
    "eth_url = \"https://api.alternative.me/v2/ticker/Ethereum/?convert=CAD\""
   ]
  },
  {
   "cell_type": "code",
   "execution_count": 5,
   "metadata": {},
   "outputs": [
    {
     "name": "stdout",
     "output_type": "stream",
     "text": [
      "The current value of your 1.2 BTC is $59952.00\n",
      "The current value of your 5.3 ETH is $11889.65\n"
     ]
    }
   ],
   "source": [
    "# Fetch current BTC price\n",
    "btc_response = requests.get(btc_url)\n",
    "btc_price = btc_response.json()['data']['1']['quotes']['USD']['price']\n",
    "\n",
    "# Fetch current ETH price\n",
    "eth_response = requests.get(eth_url)\n",
    "eth_price = eth_response.json()['data']['1027']['quotes']['USD']['price']\n",
    "\n",
    "# Compute current value of my crpto\n",
    "my_btc_value = my_btc * btc_price\n",
    "my_eth_value = my_eth * eth_price\n",
    "\n",
    "# Print current crypto wallet balance\n",
    "print(f\"The current value of your {my_btc} BTC is ${my_btc_value:0.2f}\")\n",
    "print(f\"The current value of your {my_eth} ETH is ${my_eth_value:0.2f}\")"
   ]
  },
  {
   "cell_type": "markdown",
   "metadata": {},
   "source": [
    "### Collect Investments Data Using Alpaca: `SPY` (stocks) and `AGG` (bonds)"
   ]
  },
  {
   "cell_type": "code",
   "execution_count": 6,
   "metadata": {},
   "outputs": [],
   "source": [
    "# Current amount of shares\n",
    "my_agg = 200\n",
    "my_spy = 50"
   ]
  },
  {
   "cell_type": "code",
   "execution_count": 7,
   "metadata": {},
   "outputs": [],
   "source": [
    "# Set Alpaca API key and secret\n",
    "alpaca_api_key = os.getenv(\"ALPACA_API_KEY\")\n",
    "\n",
    "# Create the Alpaca API object\n",
    "alpaca_secret_key = os.getenv(\"ALPACA_SECRET_KEY\")\n",
    "\n",
    "api = tradeapi.REST(\n",
    "    alpaca_api_key,\n",
    "    alpaca_secret_key,\n",
    "    api_version = \"v2\"\n",
    ")"
   ]
  },
  {
   "cell_type": "code",
   "execution_count": 8,
   "metadata": {},
   "outputs": [
    {
     "data": {
      "text/html": [
       "<div>\n",
       "<style scoped>\n",
       "    .dataframe tbody tr th:only-of-type {\n",
       "        vertical-align: middle;\n",
       "    }\n",
       "\n",
       "    .dataframe tbody tr th {\n",
       "        vertical-align: top;\n",
       "    }\n",
       "\n",
       "    .dataframe thead tr th {\n",
       "        text-align: left;\n",
       "    }\n",
       "\n",
       "    .dataframe thead tr:last-of-type th {\n",
       "        text-align: right;\n",
       "    }\n",
       "</style>\n",
       "<table border=\"1\" class=\"dataframe\">\n",
       "  <thead>\n",
       "    <tr>\n",
       "      <th></th>\n",
       "      <th colspan=\"5\" halign=\"left\">AGG</th>\n",
       "      <th colspan=\"5\" halign=\"left\">SPY</th>\n",
       "    </tr>\n",
       "    <tr>\n",
       "      <th></th>\n",
       "      <th>open</th>\n",
       "      <th>high</th>\n",
       "      <th>low</th>\n",
       "      <th>close</th>\n",
       "      <th>volume</th>\n",
       "      <th>open</th>\n",
       "      <th>high</th>\n",
       "      <th>low</th>\n",
       "      <th>close</th>\n",
       "      <th>volume</th>\n",
       "    </tr>\n",
       "    <tr>\n",
       "      <th>time</th>\n",
       "      <th></th>\n",
       "      <th></th>\n",
       "      <th></th>\n",
       "      <th></th>\n",
       "      <th></th>\n",
       "      <th></th>\n",
       "      <th></th>\n",
       "      <th></th>\n",
       "      <th></th>\n",
       "      <th></th>\n",
       "    </tr>\n",
       "  </thead>\n",
       "  <tbody>\n",
       "    <tr>\n",
       "      <th>2021-04-22 00:00:00-04:00</th>\n",
       "      <td>114.74</td>\n",
       "      <td>114.8</td>\n",
       "      <td>114.59</td>\n",
       "      <td>114.77</td>\n",
       "      <td>3518947</td>\n",
       "      <td>415.88</td>\n",
       "      <td>416.78</td>\n",
       "      <td>411.13</td>\n",
       "      <td>412.3</td>\n",
       "      <td>90085820</td>\n",
       "    </tr>\n",
       "  </tbody>\n",
       "</table>\n",
       "</div>"
      ],
      "text/plain": [
       "                              AGG                                     SPY  \\\n",
       "                             open   high     low   close   volume    open   \n",
       "time                                                                        \n",
       "2021-04-22 00:00:00-04:00  114.74  114.8  114.59  114.77  3518947  415.88   \n",
       "\n",
       "                                                            \n",
       "                             high     low  close    volume  \n",
       "time                                                        \n",
       "2021-04-22 00:00:00-04:00  416.78  411.13  412.3  90085820  "
      ]
     },
     "execution_count": 8,
     "metadata": {},
     "output_type": "execute_result"
    }
   ],
   "source": [
    "# Format current date as ISO format\n",
    "current_date = pd.Timestamp(\"2021-04-22\", tz=\"America/New_York\").isoformat()\n",
    "\n",
    "# Set the tickers\n",
    "tickers = [\"AGG\", \"SPY\"]\n",
    "\n",
    "# Set timeframe to '1D' for Alpaca API\n",
    "timeframe = \"1D\"\n",
    "\n",
    "# Get current closing prices for SPY and AGG\n",
    "# YOUR CODE HERE!\n",
    "df_tickers = api.get_barset(\n",
    "    tickers,\n",
    "    timeframe,\n",
    "    start=current_date,\n",
    "    end=current_date,\n",
    "    limit=1000,\n",
    ").df\n",
    "\n",
    "# Preview DataFrame\n",
    "df_tickers"
   ]
  },
  {
   "cell_type": "code",
   "execution_count": 9,
   "metadata": {},
   "outputs": [
    {
     "name": "stdout",
     "output_type": "stream",
     "text": [
      "Current AGG closing price: $114.77\n",
      "Current SPY closing price: $412.3\n"
     ]
    }
   ],
   "source": [
    "# Pick AGG and SPY close prices\n",
    "agg_close_price = df_tickers['AGG']['close'].values[0]\n",
    "spy_close_price = df_tickers['SPY']['close'].values[0]\n",
    "\n",
    "# Print AGG and SPY close prices\n",
    "print(f\"Current AGG closing price: ${agg_close_price}\")\n",
    "print(f\"Current SPY closing price: ${spy_close_price}\")"
   ]
  },
  {
   "cell_type": "code",
   "execution_count": 10,
   "metadata": {},
   "outputs": [
    {
     "name": "stdout",
     "output_type": "stream",
     "text": [
      "The current value of your 50 SPY shares is $20615.00\n",
      "The current value of your 200 AGG shares is $22954.00\n"
     ]
    }
   ],
   "source": [
    "# Compute the current value of shares\n",
    "my_spy_value = my_spy * spy_close_price\n",
    "my_agg_value = my_agg * agg_close_price\n",
    "\n",
    "# Print current value of share\n",
    "print(f\"The current value of your {my_spy} SPY shares is ${my_spy_value:0.2f}\")\n",
    "print(f\"The current value of your {my_agg} AGG shares is ${my_agg_value:0.2f}\")"
   ]
  },
  {
   "cell_type": "markdown",
   "metadata": {},
   "source": [
    "### Savings Health Analysis"
   ]
  },
  {
   "cell_type": "code",
   "execution_count": 11,
   "metadata": {},
   "outputs": [
    {
     "data": {
      "text/html": [
       "<div>\n",
       "<style scoped>\n",
       "    .dataframe tbody tr th:only-of-type {\n",
       "        vertical-align: middle;\n",
       "    }\n",
       "\n",
       "    .dataframe tbody tr th {\n",
       "        vertical-align: top;\n",
       "    }\n",
       "\n",
       "    .dataframe thead th {\n",
       "        text-align: right;\n",
       "    }\n",
       "</style>\n",
       "<table border=\"1\" class=\"dataframe\">\n",
       "  <thead>\n",
       "    <tr style=\"text-align: right;\">\n",
       "      <th></th>\n",
       "      <th>amount</th>\n",
       "    </tr>\n",
       "  </thead>\n",
       "  <tbody>\n",
       "    <tr>\n",
       "      <th>crypto</th>\n",
       "      <td>71841.649</td>\n",
       "    </tr>\n",
       "    <tr>\n",
       "      <th>shares</th>\n",
       "      <td>43569.000</td>\n",
       "    </tr>\n",
       "  </tbody>\n",
       "</table>\n",
       "</div>"
      ],
      "text/plain": [
       "           amount\n",
       "crypto  71841.649\n",
       "shares  43569.000"
      ]
     },
     "metadata": {},
     "output_type": "display_data"
    }
   ],
   "source": [
    "# Set monthly household income\n",
    "monthly_income = 12000\n",
    "\n",
    "# Create savings DataFrame\n",
    "df_savings = pd.DataFrame({'amount': [my_btc_value + my_eth_value, my_spy_value + my_agg_value]}, index=['crypto', 'shares'])\n",
    "\n",
    "# Display savings DataFrame\n",
    "display(df_savings)"
   ]
  },
  {
   "cell_type": "code",
   "execution_count": 12,
   "metadata": {},
   "outputs": [
    {
     "data": {
      "text/plain": [
       "<AxesSubplot:ylabel='amount'>"
      ]
     },
     "execution_count": 12,
     "metadata": {},
     "output_type": "execute_result"
    },
    {
     "data": {
      "image/png": "[encoded data removed]",
      "text/plain": [
       "<Figure size 432x288 with 1 Axes>"
      ]
     },
     "metadata": {},
     "output_type": "display_data"
    }
   ],
   "source": [
    "# Plot savings pie chart\n",
    "df_savings.plot.pie(y='amount')"
   ]
  },
  {
   "cell_type": "code",
   "execution_count": 13,
   "metadata": {},
   "outputs": [
    {
     "name": "stdout",
     "output_type": "stream",
     "text": [
      "Congrats! You have enough money in your emergency fund!\n"
     ]
    }
   ],
   "source": [
    "# Set ideal emergency fund\n",
    "emergency_fund = monthly_income * 3\n",
    "\n",
    "# Calculate total amount of savings\n",
    "total_savings = df_savings['amount'].sum()\n",
    "\n",
    "# Validate saving health\n",
    "if total_savings > emergency_fund:\n",
    "    print('Congrats! You have enough money in your emergency fund!')\n",
    "elif total_savings == emergency_fund:\n",
    "    print('Congrats! You reached this financial goal')\n",
    "else:\n",
    "    print(f'You are {emergency_fund - total_savings} aways from reaching financial goal')"
   ]
  },
  {
   "cell_type": "markdown",
   "metadata": {},
   "source": [
    "## Part 2 - Retirement Planning\n",
    "\n",
    "### Monte Carlo Simulation"
   ]
  },
  {
   "cell_type": "code",
   "execution_count": 14,
   "metadata": {},
   "outputs": [],
   "source": [
    "# Set start and end dates of five years back from today.\n",
    "# Sample results may vary from the solution based on the time frame chosen\n",
    "start_date = pd.Timestamp('2015-08-07', tz='America/New_York').isoformat()\n",
    "end_date = pd.Timestamp('2020-08-07', tz='America/New_York').isoformat()"
   ]
  },
  {
   "cell_type": "code",
   "execution_count": 15,
   "metadata": {},
   "outputs": [
    {
     "data": {
      "text/html": [
       "<div>\n",
       "<style scoped>\n",
       "    .dataframe tbody tr th:only-of-type {\n",
       "        vertical-align: middle;\n",
       "    }\n",
       "\n",
       "    .dataframe tbody tr th {\n",
       "        vertical-align: top;\n",
       "    }\n",
       "\n",
       "    .dataframe thead tr th {\n",
       "        text-align: left;\n",
       "    }\n",
       "\n",
       "    .dataframe thead tr:last-of-type th {\n",
       "        text-align: right;\n",
       "    }\n",
       "</style>\n",
       "<table border=\"1\" class=\"dataframe\">\n",
       "  <thead>\n",
       "    <tr>\n",
       "      <th></th>\n",
       "      <th colspan=\"5\" halign=\"left\">AGG</th>\n",
       "      <th colspan=\"5\" halign=\"left\">SPY</th>\n",
       "    </tr>\n",
       "    <tr>\n",
       "      <th></th>\n",
       "      <th>open</th>\n",
       "      <th>high</th>\n",
       "      <th>low</th>\n",
       "      <th>close</th>\n",
       "      <th>volume</th>\n",
       "      <th>open</th>\n",
       "      <th>high</th>\n",
       "      <th>low</th>\n",
       "      <th>close</th>\n",
       "      <th>volume</th>\n",
       "    </tr>\n",
       "    <tr>\n",
       "      <th>time</th>\n",
       "      <th></th>\n",
       "      <th></th>\n",
       "      <th></th>\n",
       "      <th></th>\n",
       "      <th></th>\n",
       "      <th></th>\n",
       "      <th></th>\n",
       "      <th></th>\n",
       "      <th></th>\n",
       "      <th></th>\n",
       "    </tr>\n",
       "  </thead>\n",
       "  <tbody>\n",
       "    <tr>\n",
       "      <th>2016-08-18 00:00:00-04:00</th>\n",
       "      <td>112.64</td>\n",
       "      <td>112.7799</td>\n",
       "      <td>112.5350</td>\n",
       "      <td>112.705</td>\n",
       "      <td>1814107</td>\n",
       "      <td>218.33</td>\n",
       "      <td>218.90</td>\n",
       "      <td>218.21</td>\n",
       "      <td>218.87</td>\n",
       "      <td>42850145</td>\n",
       "    </tr>\n",
       "    <tr>\n",
       "      <th>2016-08-19 00:00:00-04:00</th>\n",
       "      <td>112.53</td>\n",
       "      <td>112.6200</td>\n",
       "      <td>112.3900</td>\n",
       "      <td>112.490</td>\n",
       "      <td>2961016</td>\n",
       "      <td>218.31</td>\n",
       "      <td>218.75</td>\n",
       "      <td>217.74</td>\n",
       "      <td>218.57</td>\n",
       "      <td>52238224</td>\n",
       "    </tr>\n",
       "    <tr>\n",
       "      <th>2016-08-22 00:00:00-04:00</th>\n",
       "      <td>112.66</td>\n",
       "      <td>112.7380</td>\n",
       "      <td>112.5600</td>\n",
       "      <td>112.650</td>\n",
       "      <td>1647564</td>\n",
       "      <td>218.27</td>\n",
       "      <td>218.80</td>\n",
       "      <td>217.83</td>\n",
       "      <td>218.50</td>\n",
       "      <td>48628907</td>\n",
       "    </tr>\n",
       "    <tr>\n",
       "      <th>2016-08-23 00:00:00-04:00</th>\n",
       "      <td>112.78</td>\n",
       "      <td>112.8250</td>\n",
       "      <td>112.6301</td>\n",
       "      <td>112.690</td>\n",
       "      <td>2197732</td>\n",
       "      <td>219.25</td>\n",
       "      <td>219.60</td>\n",
       "      <td>218.90</td>\n",
       "      <td>218.94</td>\n",
       "      <td>41981207</td>\n",
       "    </tr>\n",
       "    <tr>\n",
       "      <th>2016-08-24 00:00:00-04:00</th>\n",
       "      <td>112.79</td>\n",
       "      <td>112.8000</td>\n",
       "      <td>112.6290</td>\n",
       "      <td>112.660</td>\n",
       "      <td>2071970</td>\n",
       "      <td>218.82</td>\n",
       "      <td>218.91</td>\n",
       "      <td>217.36</td>\n",
       "      <td>217.88</td>\n",
       "      <td>50310103</td>\n",
       "    </tr>\n",
       "  </tbody>\n",
       "</table>\n",
       "</div>"
      ],
      "text/plain": [
       "                              AGG                                        \\\n",
       "                             open      high       low    close   volume   \n",
       "time                                                                      \n",
       "2016-08-18 00:00:00-04:00  112.64  112.7799  112.5350  112.705  1814107   \n",
       "2016-08-19 00:00:00-04:00  112.53  112.6200  112.3900  112.490  2961016   \n",
       "2016-08-22 00:00:00-04:00  112.66  112.7380  112.5600  112.650  1647564   \n",
       "2016-08-23 00:00:00-04:00  112.78  112.8250  112.6301  112.690  2197732   \n",
       "2016-08-24 00:00:00-04:00  112.79  112.8000  112.6290  112.660  2071970   \n",
       "\n",
       "                              SPY                                    \n",
       "                             open    high     low   close    volume  \n",
       "time                                                                 \n",
       "2016-08-18 00:00:00-04:00  218.33  218.90  218.21  218.87  42850145  \n",
       "2016-08-19 00:00:00-04:00  218.31  218.75  217.74  218.57  52238224  \n",
       "2016-08-22 00:00:00-04:00  218.27  218.80  217.83  218.50  48628907  \n",
       "2016-08-23 00:00:00-04:00  219.25  219.60  218.90  218.94  41981207  \n",
       "2016-08-24 00:00:00-04:00  218.82  218.91  217.36  217.88  50310103  "
      ]
     },
     "execution_count": 15,
     "metadata": {},
     "output_type": "execute_result"
    }
   ],
   "source": [
    "# Get 5 years' worth of historical data for SPY and AGG\n",
    "df_stock_data = api.get_barset(\n",
    "    tickers,\n",
    "    timeframe,\n",
    "    start=start_date,\n",
    "    end=end_date,\n",
    "    limit=1000,\n",
    ").df\n",
    "\n",
    "# Display sample data\n",
    "df_stock_data.head()"
   ]
  },
  {
   "cell_type": "code",
   "execution_count": 16,
   "metadata": {},
   "outputs": [],
   "source": [
    "# Configuring a Monte Carlo simulation to forecast 30 years cumulative returns\n",
    "MC_thirtyyear = MCSimulation(\n",
    "    portfolio_data = df_stock_data,\n",
    "    weights = [.40,.60],\n",
    "    num_simulation = 500,\n",
    "    num_trading_days = 252*30\n",
    ")"
   ]
  },
  {
   "cell_type": "code",
   "execution_count": 17,
   "metadata": {},
   "outputs": [
    {
     "data": {
      "text/html": [
       "<div>\n",
       "<style scoped>\n",
       "    .dataframe tbody tr th:only-of-type {\n",
       "        vertical-align: middle;\n",
       "    }\n",
       "\n",
       "    .dataframe tbody tr th {\n",
       "        vertical-align: top;\n",
       "    }\n",
       "\n",
       "    .dataframe thead tr th {\n",
       "        text-align: left;\n",
       "    }\n",
       "\n",
       "    .dataframe thead tr:last-of-type th {\n",
       "        text-align: right;\n",
       "    }\n",
       "</style>\n",
       "<table border=\"1\" class=\"dataframe\">\n",
       "  <thead>\n",
       "    <tr>\n",
       "      <th></th>\n",
       "      <th colspan=\"6\" halign=\"left\">AGG</th>\n",
       "      <th colspan=\"6\" halign=\"left\">SPY</th>\n",
       "    </tr>\n",
       "    <tr>\n",
       "      <th></th>\n",
       "      <th>open</th>\n",
       "      <th>high</th>\n",
       "      <th>low</th>\n",
       "      <th>close</th>\n",
       "      <th>volume</th>\n",
       "      <th>daily_return</th>\n",
       "      <th>open</th>\n",
       "      <th>high</th>\n",
       "      <th>low</th>\n",
       "      <th>close</th>\n",
       "      <th>volume</th>\n",
       "      <th>daily_return</th>\n",
       "    </tr>\n",
       "    <tr>\n",
       "      <th>time</th>\n",
       "      <th></th>\n",
       "      <th></th>\n",
       "      <th></th>\n",
       "      <th></th>\n",
       "      <th></th>\n",
       "      <th></th>\n",
       "      <th></th>\n",
       "      <th></th>\n",
       "      <th></th>\n",
       "      <th></th>\n",
       "      <th></th>\n",
       "      <th></th>\n",
       "    </tr>\n",
       "  </thead>\n",
       "  <tbody>\n",
       "    <tr>\n",
       "      <th>2016-08-18 00:00:00-04:00</th>\n",
       "      <td>112.64</td>\n",
       "      <td>112.7799</td>\n",
       "      <td>112.5350</td>\n",
       "      <td>112.705</td>\n",
       "      <td>1814107</td>\n",
       "      <td>NaN</td>\n",
       "      <td>218.33</td>\n",
       "      <td>218.90</td>\n",
       "      <td>218.21</td>\n",
       "      <td>218.87</td>\n",
       "      <td>42850145</td>\n",
       "      <td>NaN</td>\n",
       "    </tr>\n",
       "    <tr>\n",
       "      <th>2016-08-19 00:00:00-04:00</th>\n",
       "      <td>112.53</td>\n",
       "      <td>112.6200</td>\n",
       "      <td>112.3900</td>\n",
       "      <td>112.490</td>\n",
       "      <td>2961016</td>\n",
       "      <td>-0.001908</td>\n",
       "      <td>218.31</td>\n",
       "      <td>218.75</td>\n",
       "      <td>217.74</td>\n",
       "      <td>218.57</td>\n",
       "      <td>52238224</td>\n",
       "      <td>-0.001371</td>\n",
       "    </tr>\n",
       "    <tr>\n",
       "      <th>2016-08-22 00:00:00-04:00</th>\n",
       "      <td>112.66</td>\n",
       "      <td>112.7380</td>\n",
       "      <td>112.5600</td>\n",
       "      <td>112.650</td>\n",
       "      <td>1647564</td>\n",
       "      <td>0.001422</td>\n",
       "      <td>218.27</td>\n",
       "      <td>218.80</td>\n",
       "      <td>217.83</td>\n",
       "      <td>218.50</td>\n",
       "      <td>48628907</td>\n",
       "      <td>-0.000320</td>\n",
       "    </tr>\n",
       "    <tr>\n",
       "      <th>2016-08-23 00:00:00-04:00</th>\n",
       "      <td>112.78</td>\n",
       "      <td>112.8250</td>\n",
       "      <td>112.6301</td>\n",
       "      <td>112.690</td>\n",
       "      <td>2197732</td>\n",
       "      <td>0.000355</td>\n",
       "      <td>219.25</td>\n",
       "      <td>219.60</td>\n",
       "      <td>218.90</td>\n",
       "      <td>218.94</td>\n",
       "      <td>41981207</td>\n",
       "      <td>0.002014</td>\n",
       "    </tr>\n",
       "    <tr>\n",
       "      <th>2016-08-24 00:00:00-04:00</th>\n",
       "      <td>112.79</td>\n",
       "      <td>112.8000</td>\n",
       "      <td>112.6290</td>\n",
       "      <td>112.660</td>\n",
       "      <td>2071970</td>\n",
       "      <td>-0.000266</td>\n",
       "      <td>218.82</td>\n",
       "      <td>218.91</td>\n",
       "      <td>217.36</td>\n",
       "      <td>217.88</td>\n",
       "      <td>50310103</td>\n",
       "      <td>-0.004842</td>\n",
       "    </tr>\n",
       "  </tbody>\n",
       "</table>\n",
       "</div>"
      ],
      "text/plain": [
       "                              AGG                                        \\\n",
       "                             open      high       low    close   volume   \n",
       "time                                                                      \n",
       "2016-08-18 00:00:00-04:00  112.64  112.7799  112.5350  112.705  1814107   \n",
       "2016-08-19 00:00:00-04:00  112.53  112.6200  112.3900  112.490  2961016   \n",
       "2016-08-22 00:00:00-04:00  112.66  112.7380  112.5600  112.650  1647564   \n",
       "2016-08-23 00:00:00-04:00  112.78  112.8250  112.6301  112.690  2197732   \n",
       "2016-08-24 00:00:00-04:00  112.79  112.8000  112.6290  112.660  2071970   \n",
       "\n",
       "                                           SPY                          \\\n",
       "                          daily_return    open    high     low   close   \n",
       "time                                                                     \n",
       "2016-08-18 00:00:00-04:00          NaN  218.33  218.90  218.21  218.87   \n",
       "2016-08-19 00:00:00-04:00    -0.001908  218.31  218.75  217.74  218.57   \n",
       "2016-08-22 00:00:00-04:00     0.001422  218.27  218.80  217.83  218.50   \n",
       "2016-08-23 00:00:00-04:00     0.000355  219.25  219.60  218.90  218.94   \n",
       "2016-08-24 00:00:00-04:00    -0.000266  218.82  218.91  217.36  217.88   \n",
       "\n",
       "                                                  \n",
       "                             volume daily_return  \n",
       "time                                              \n",
       "2016-08-18 00:00:00-04:00  42850145          NaN  \n",
       "2016-08-19 00:00:00-04:00  52238224    -0.001371  \n",
       "2016-08-22 00:00:00-04:00  48628907    -0.000320  \n",
       "2016-08-23 00:00:00-04:00  41981207     0.002014  \n",
       "2016-08-24 00:00:00-04:00  50310103    -0.004842  "
      ]
     },
     "execution_count": 17,
     "metadata": {},
     "output_type": "execute_result"
    }
   ],
   "source": [
    "# Printing the simulation input data\n",
    "MC_thirtyyear.portfolio_data.head()"
   ]
  },
  {
   "cell_type": "code",
   "execution_count": 18,
   "metadata": {},
   "outputs": [
    {
     "name": "stdout",
     "output_type": "stream",
     "text": [
      "Running Monte Carlo simulation number 0.\n",
      "Running Monte Carlo simulation number 10.\n",
      "Running Monte Carlo simulation number 20.\n",
      "Running Monte Carlo simulation number 30.\n",
      "Running Monte Carlo simulation number 40.\n",
      "Running Monte Carlo simulation number 50.\n",
      "Running Monte Carlo simulation number 60.\n",
      "Running Monte Carlo simulation number 70.\n",
      "Running Monte Carlo simulation number 80.\n",
      "Running Monte Carlo simulation number 90.\n",
      "Running Monte Carlo simulation number 100.\n",
      "Running Monte Carlo simulation number 110.\n",
      "Running Monte Carlo simulation number 120.\n",
      "Running Monte Carlo simulation number 130.\n",
      "Running Monte Carlo simulation number 140.\n",
      "Running Monte Carlo simulation number 150.\n",
      "Running Monte Carlo simulation number 160.\n",
      "Running Monte Carlo simulation number 170.\n",
      "Running Monte Carlo simulation number 180.\n",
      "Running Monte Carlo simulation number 190.\n",
      "Running Monte Carlo simulation number 200.\n",
      "Running Monte Carlo simulation number 210.\n",
      "Running Monte Carlo simulation number 220.\n",
      "Running Monte Carlo simulation number 230.\n",
      "Running Monte Carlo simulation number 240.\n",
      "Running Monte Carlo simulation number 250.\n",
      "Running Monte Carlo simulation number 260.\n",
      "Running Monte Carlo simulation number 270.\n",
      "Running Monte Carlo simulation number 280.\n",
      "Running Monte Carlo simulation number 290.\n",
      "Running Monte Carlo simulation number 300.\n",
      "Running Monte Carlo simulation number 310.\n",
      "Running Monte Carlo simulation number 320.\n",
      "Running Monte Carlo simulation number 330.\n",
      "Running Monte Carlo simulation number 340.\n",
      "Running Monte Carlo simulation number 350.\n",
      "Running Monte Carlo simulation number 360.\n",
      "Running Monte Carlo simulation number 370.\n",
      "Running Monte Carlo simulation number 380.\n",
      "Running Monte Carlo simulation number 390.\n",
      "Running Monte Carlo simulation number 400.\n",
      "Running Monte Carlo simulation number 410.\n",
      "Running Monte Carlo simulation number 420.\n",
      "Running Monte Carlo simulation number 430.\n",
      "Running Monte Carlo simulation number 440.\n",
      "Running Monte Carlo simulation number 450.\n",
      "Running Monte Carlo simulation number 460.\n",
      "Running Monte Carlo simulation number 470.\n",
      "Running Monte Carlo simulation number 480.\n",
      "Running Monte Carlo simulation number 490.\n"
     ]
    },
    {
     "data": {
      "text/html": [
       "<div>\n",
       "<style scoped>\n",
       "    .dataframe tbody tr th:only-of-type {\n",
       "        vertical-align: middle;\n",
       "    }\n",
       "\n",
       "    .dataframe tbody tr th {\n",
       "        vertical-align: top;\n",
       "    }\n",
       "\n",
       "    .dataframe thead th {\n",
       "        text-align: right;\n",
       "    }\n",
       "</style>\n",
       "<table border=\"1\" class=\"dataframe\">\n",
       "  <thead>\n",
       "    <tr style=\"text-align: right;\">\n",
       "      <th></th>\n",
       "      <th>0</th>\n",
       "      <th>1</th>\n",
       "      <th>2</th>\n",
       "      <th>3</th>\n",
       "      <th>4</th>\n",
       "      <th>5</th>\n",
       "      <th>6</th>\n",
       "      <th>7</th>\n",
       "      <th>8</th>\n",
       "      <th>9</th>\n",
       "      <th>...</th>\n",
       "      <th>490</th>\n",
       "      <th>491</th>\n",
       "      <th>492</th>\n",
       "      <th>493</th>\n",
       "      <th>494</th>\n",
       "      <th>495</th>\n",
       "      <th>496</th>\n",
       "      <th>497</th>\n",
       "      <th>498</th>\n",
       "      <th>499</th>\n",
       "    </tr>\n",
       "  </thead>\n",
       "  <tbody>\n",
       "    <tr>\n",
       "      <th>0</th>\n",
       "      <td>1.000000</td>\n",
       "      <td>1.000000</td>\n",
       "      <td>1.000000</td>\n",
       "      <td>1.000000</td>\n",
       "      <td>1.000000</td>\n",
       "      <td>1.000000</td>\n",
       "      <td>1.000000</td>\n",
       "      <td>1.000000</td>\n",
       "      <td>1.000000</td>\n",
       "      <td>1.000000</td>\n",
       "      <td>...</td>\n",
       "      <td>1.000000</td>\n",
       "      <td>1.000000</td>\n",
       "      <td>1.000000</td>\n",
       "      <td>1.000000</td>\n",
       "      <td>1.000000</td>\n",
       "      <td>1.000000</td>\n",
       "      <td>1.000000</td>\n",
       "      <td>1.000000</td>\n",
       "      <td>1.000000</td>\n",
       "      <td>1.000000</td>\n",
       "    </tr>\n",
       "    <tr>\n",
       "      <th>1</th>\n",
       "      <td>0.995632</td>\n",
       "      <td>1.010363</td>\n",
       "      <td>1.005063</td>\n",
       "      <td>0.999168</td>\n",
       "      <td>0.992888</td>\n",
       "      <td>1.000143</td>\n",
       "      <td>1.006184</td>\n",
       "      <td>0.976116</td>\n",
       "      <td>1.002210</td>\n",
       "      <td>0.991161</td>\n",
       "      <td>...</td>\n",
       "      <td>0.997644</td>\n",
       "      <td>1.003570</td>\n",
       "      <td>0.999223</td>\n",
       "      <td>1.011418</td>\n",
       "      <td>0.993360</td>\n",
       "      <td>0.995244</td>\n",
       "      <td>0.988013</td>\n",
       "      <td>0.993950</td>\n",
       "      <td>1.012185</td>\n",
       "      <td>0.992515</td>\n",
       "    </tr>\n",
       "    <tr>\n",
       "      <th>2</th>\n",
       "      <td>0.990877</td>\n",
       "      <td>1.002959</td>\n",
       "      <td>0.999389</td>\n",
       "      <td>1.002654</td>\n",
       "      <td>0.987619</td>\n",
       "      <td>0.999392</td>\n",
       "      <td>1.002293</td>\n",
       "      <td>0.983693</td>\n",
       "      <td>0.993055</td>\n",
       "      <td>0.993359</td>\n",
       "      <td>...</td>\n",
       "      <td>0.989928</td>\n",
       "      <td>1.001888</td>\n",
       "      <td>0.974023</td>\n",
       "      <td>1.011460</td>\n",
       "      <td>0.995979</td>\n",
       "      <td>0.996677</td>\n",
       "      <td>0.992891</td>\n",
       "      <td>1.002639</td>\n",
       "      <td>1.002438</td>\n",
       "      <td>1.000040</td>\n",
       "    </tr>\n",
       "    <tr>\n",
       "      <th>3</th>\n",
       "      <td>0.995213</td>\n",
       "      <td>1.001677</td>\n",
       "      <td>1.016799</td>\n",
       "      <td>1.009150</td>\n",
       "      <td>1.005354</td>\n",
       "      <td>1.007216</td>\n",
       "      <td>0.988202</td>\n",
       "      <td>0.999652</td>\n",
       "      <td>0.992991</td>\n",
       "      <td>0.995812</td>\n",
       "      <td>...</td>\n",
       "      <td>0.996167</td>\n",
       "      <td>1.004204</td>\n",
       "      <td>0.983207</td>\n",
       "      <td>1.017701</td>\n",
       "      <td>0.999360</td>\n",
       "      <td>1.002391</td>\n",
       "      <td>1.001835</td>\n",
       "      <td>0.993874</td>\n",
       "      <td>1.005601</td>\n",
       "      <td>1.001684</td>\n",
       "    </tr>\n",
       "    <tr>\n",
       "      <th>4</th>\n",
       "      <td>0.993722</td>\n",
       "      <td>0.998296</td>\n",
       "      <td>1.011189</td>\n",
       "      <td>1.015592</td>\n",
       "      <td>1.015165</td>\n",
       "      <td>0.999217</td>\n",
       "      <td>0.991763</td>\n",
       "      <td>0.993636</td>\n",
       "      <td>0.997301</td>\n",
       "      <td>0.992270</td>\n",
       "      <td>...</td>\n",
       "      <td>0.999227</td>\n",
       "      <td>1.009150</td>\n",
       "      <td>0.975837</td>\n",
       "      <td>1.020975</td>\n",
       "      <td>1.008988</td>\n",
       "      <td>1.000819</td>\n",
       "      <td>0.995537</td>\n",
       "      <td>0.991555</td>\n",
       "      <td>0.993703</td>\n",
       "      <td>1.005549</td>\n",
       "    </tr>\n",
       "    <tr>\n",
       "      <th>...</th>\n",
       "      <td>...</td>\n",
       "      <td>...</td>\n",
       "      <td>...</td>\n",
       "      <td>...</td>\n",
       "      <td>...</td>\n",
       "      <td>...</td>\n",
       "      <td>...</td>\n",
       "      <td>...</td>\n",
       "      <td>...</td>\n",
       "      <td>...</td>\n",
       "      <td>...</td>\n",
       "      <td>...</td>\n",
       "      <td>...</td>\n",
       "      <td>...</td>\n",
       "      <td>...</td>\n",
       "      <td>...</td>\n",
       "      <td>...</td>\n",
       "      <td>...</td>\n",
       "      <td>...</td>\n",
       "      <td>...</td>\n",
       "      <td>...</td>\n",
       "    </tr>\n",
       "    <tr>\n",
       "      <th>7556</th>\n",
       "      <td>7.302298</td>\n",
       "      <td>13.815916</td>\n",
       "      <td>19.332303</td>\n",
       "      <td>14.975345</td>\n",
       "      <td>11.924337</td>\n",
       "      <td>10.362840</td>\n",
       "      <td>18.611789</td>\n",
       "      <td>8.927952</td>\n",
       "      <td>7.224070</td>\n",
       "      <td>13.712211</td>\n",
       "      <td>...</td>\n",
       "      <td>8.913905</td>\n",
       "      <td>8.569932</td>\n",
       "      <td>12.608153</td>\n",
       "      <td>14.920841</td>\n",
       "      <td>10.336537</td>\n",
       "      <td>12.973030</td>\n",
       "      <td>33.884908</td>\n",
       "      <td>15.014075</td>\n",
       "      <td>10.668483</td>\n",
       "      <td>12.688003</td>\n",
       "    </tr>\n",
       "    <tr>\n",
       "      <th>7557</th>\n",
       "      <td>7.281967</td>\n",
       "      <td>13.785613</td>\n",
       "      <td>19.464439</td>\n",
       "      <td>14.862142</td>\n",
       "      <td>11.980657</td>\n",
       "      <td>10.221949</td>\n",
       "      <td>18.355514</td>\n",
       "      <td>9.075435</td>\n",
       "      <td>7.224707</td>\n",
       "      <td>13.759852</td>\n",
       "      <td>...</td>\n",
       "      <td>9.009488</td>\n",
       "      <td>8.595312</td>\n",
       "      <td>12.617532</td>\n",
       "      <td>15.084885</td>\n",
       "      <td>10.216274</td>\n",
       "      <td>12.962297</td>\n",
       "      <td>34.200403</td>\n",
       "      <td>15.127133</td>\n",
       "      <td>10.695007</td>\n",
       "      <td>12.705267</td>\n",
       "    </tr>\n",
       "    <tr>\n",
       "      <th>7558</th>\n",
       "      <td>7.203422</td>\n",
       "      <td>13.776325</td>\n",
       "      <td>19.712222</td>\n",
       "      <td>14.887137</td>\n",
       "      <td>11.958178</td>\n",
       "      <td>10.269387</td>\n",
       "      <td>18.316532</td>\n",
       "      <td>8.958290</td>\n",
       "      <td>7.208223</td>\n",
       "      <td>13.559598</td>\n",
       "      <td>...</td>\n",
       "      <td>9.015254</td>\n",
       "      <td>8.552549</td>\n",
       "      <td>12.702901</td>\n",
       "      <td>15.042462</td>\n",
       "      <td>10.397832</td>\n",
       "      <td>13.012794</td>\n",
       "      <td>34.178067</td>\n",
       "      <td>15.203154</td>\n",
       "      <td>10.612055</td>\n",
       "      <td>12.760566</td>\n",
       "    </tr>\n",
       "    <tr>\n",
       "      <th>7559</th>\n",
       "      <td>7.144048</td>\n",
       "      <td>13.820812</td>\n",
       "      <td>19.683547</td>\n",
       "      <td>15.152131</td>\n",
       "      <td>11.866318</td>\n",
       "      <td>10.350330</td>\n",
       "      <td>18.453128</td>\n",
       "      <td>8.857541</td>\n",
       "      <td>7.293429</td>\n",
       "      <td>13.458406</td>\n",
       "      <td>...</td>\n",
       "      <td>8.971569</td>\n",
       "      <td>8.643264</td>\n",
       "      <td>12.891165</td>\n",
       "      <td>15.072392</td>\n",
       "      <td>10.249209</td>\n",
       "      <td>12.850725</td>\n",
       "      <td>34.206121</td>\n",
       "      <td>15.251083</td>\n",
       "      <td>10.608549</td>\n",
       "      <td>12.775385</td>\n",
       "    </tr>\n",
       "    <tr>\n",
       "      <th>7560</th>\n",
       "      <td>7.200281</td>\n",
       "      <td>13.792504</td>\n",
       "      <td>19.849955</td>\n",
       "      <td>15.219904</td>\n",
       "      <td>11.893558</td>\n",
       "      <td>10.358953</td>\n",
       "      <td>18.593968</td>\n",
       "      <td>8.748379</td>\n",
       "      <td>7.216820</td>\n",
       "      <td>13.578441</td>\n",
       "      <td>...</td>\n",
       "      <td>9.090836</td>\n",
       "      <td>8.584334</td>\n",
       "      <td>12.793229</td>\n",
       "      <td>14.975840</td>\n",
       "      <td>10.155478</td>\n",
       "      <td>12.735861</td>\n",
       "      <td>34.398337</td>\n",
       "      <td>15.295240</td>\n",
       "      <td>10.462955</td>\n",
       "      <td>12.871133</td>\n",
       "    </tr>\n",
       "  </tbody>\n",
       "</table>\n",
       "<p>7561 rows × 500 columns</p>\n",
       "</div>"
      ],
      "text/plain": [
       "           0          1          2          3          4          5    \\\n",
       "0     1.000000   1.000000   1.000000   1.000000   1.000000   1.000000   \n",
       "1     0.995632   1.010363   1.005063   0.999168   0.992888   1.000143   \n",
       "2     0.990877   1.002959   0.999389   1.002654   0.987619   0.999392   \n",
       "3     0.995213   1.001677   1.016799   1.009150   1.005354   1.007216   \n",
       "4     0.993722   0.998296   1.011189   1.015592   1.015165   0.999217   \n",
       "...        ...        ...        ...        ...        ...        ...   \n",
       "7556  7.302298  13.815916  19.332303  14.975345  11.924337  10.362840   \n",
       "7557  7.281967  13.785613  19.464439  14.862142  11.980657  10.221949   \n",
       "7558  7.203422  13.776325  19.712222  14.887137  11.958178  10.269387   \n",
       "7559  7.144048  13.820812  19.683547  15.152131  11.866318  10.350330   \n",
       "7560  7.200281  13.792504  19.849955  15.219904  11.893558  10.358953   \n",
       "\n",
       "            6         7         8          9    ...       490       491  \\\n",
       "0      1.000000  1.000000  1.000000   1.000000  ...  1.000000  1.000000   \n",
       "1      1.006184  0.976116  1.002210   0.991161  ...  0.997644  1.003570   \n",
       "2      1.002293  0.983693  0.993055   0.993359  ...  0.989928  1.001888   \n",
       "3      0.988202  0.999652  0.992991   0.995812  ...  0.996167  1.004204   \n",
       "4      0.991763  0.993636  0.997301   0.992270  ...  0.999227  1.009150   \n",
       "...         ...       ...       ...        ...  ...       ...       ...   \n",
       "7556  18.611789  8.927952  7.224070  13.712211  ...  8.913905  8.569932   \n",
       "7557  18.355514  9.075435  7.224707  13.759852  ...  9.009488  8.595312   \n",
       "7558  18.316532  8.958290  7.208223  13.559598  ...  9.015254  8.552549   \n",
       "7559  18.453128  8.857541  7.293429  13.458406  ...  8.971569  8.643264   \n",
       "7560  18.593968  8.748379  7.216820  13.578441  ...  9.090836  8.584334   \n",
       "\n",
       "            492        493        494        495        496        497  \\\n",
       "0      1.000000   1.000000   1.000000   1.000000   1.000000   1.000000   \n",
       "1      0.999223   1.011418   0.993360   0.995244   0.988013   0.993950   \n",
       "2      0.974023   1.011460   0.995979   0.996677   0.992891   1.002639   \n",
       "3      0.983207   1.017701   0.999360   1.002391   1.001835   0.993874   \n",
       "4      0.975837   1.020975   1.008988   1.000819   0.995537   0.991555   \n",
       "...         ...        ...        ...        ...        ...        ...   \n",
       "7556  12.608153  14.920841  10.336537  12.973030  33.884908  15.014075   \n",
       "7557  12.617532  15.084885  10.216274  12.962297  34.200403  15.127133   \n",
       "7558  12.702901  15.042462  10.397832  13.012794  34.178067  15.203154   \n",
       "7559  12.891165  15.072392  10.249209  12.850725  34.206121  15.251083   \n",
       "7560  12.793229  14.975840  10.155478  12.735861  34.398337  15.295240   \n",
       "\n",
       "            498        499  \n",
       "0      1.000000   1.000000  \n",
       "1      1.012185   0.992515  \n",
       "2      1.002438   1.000040  \n",
       "3      1.005601   1.001684  \n",
       "4      0.993703   1.005549  \n",
       "...         ...        ...  \n",
       "7556  10.668483  12.688003  \n",
       "7557  10.695007  12.705267  \n",
       "7558  10.612055  12.760566  \n",
       "7559  10.608549  12.775385  \n",
       "7560  10.462955  12.871133  \n",
       "\n",
       "[7561 rows x 500 columns]"
      ]
     },
     "execution_count": 18,
     "metadata": {},
     "output_type": "execute_result"
    }
   ],
   "source": [
    "# Running a Monte Carlo simulation to forecast 30 years cumulative returns\n",
    "MC_thirtyyear.calc_cumulative_return()"
   ]
  },
  {
   "cell_type": "code",
   "execution_count": 19,
   "metadata": {},
   "outputs": [
    {
     "data": {
      "image/png": "[encoded data removed]",
      "text/plain": [
       "<Figure size 432x288 with 1 Axes>"
      ]
     },
     "metadata": {
      "needs_background": "light"
     },
     "output_type": "display_data"
    }
   ],
   "source": [
    "# Plot simulation outcomes\n",
    "line_plot = MC_thirtyyear.plot_simulation()\n",
    "\n",
    "# Save the plot for future usage\n",
    "line_plot.get_figure().savefig(\"MC_thirtyyear_sim_plot.png\", bbox_inches=\"tight\")"
   ]
  },
  {
   "cell_type": "code",
   "execution_count": 20,
   "metadata": {},
   "outputs": [
    {
     "data": {
      "image/png": "[encoded data removed]",
      "text/plain": [
       "<Figure size 432x288 with 1 Axes>"
      ]
     },
     "metadata": {
      "needs_background": "light"
     },
     "output_type": "display_data"
    }
   ],
   "source": [
    "# Plot probability distribution and confidence intervals\n",
    "dist_plot = MC_thirtyyear.plot_distribution()\n",
    "\n",
    "# Save the plot for future usage\n",
    "dist_plot.get_figure().savefig('MC_thirtyyear_dist_plot.png',bbox_inches='tight')"
   ]
  },
  {
   "cell_type": "markdown",
   "metadata": {},
   "source": [
    "### Retirement Analysis"
   ]
  },
  {
   "cell_type": "code",
   "execution_count": 21,
   "metadata": {},
   "outputs": [
    {
     "name": "stdout",
     "output_type": "stream",
     "text": [
      "count           500.000000\n",
      "mean             11.874879\n",
      "std               8.884274\n",
      "min               1.526578\n",
      "25%               6.214609\n",
      "50%               9.836108\n",
      "75%              14.466886\n",
      "max             101.640654\n",
      "95% CI Lower      2.682269\n",
      "95% CI Upper     30.348785\n",
      "Name: 7560, dtype: float64\n"
     ]
    }
   ],
   "source": [
    "# Fetch summary statistics from the Monte Carlo simulation results\n",
    "tbl = MC_thirtyyear.summarize_cumulative_return()\n",
    "\n",
    "# Print summary statistics\n",
    "print(tbl)"
   ]
  },
  {
   "cell_type": "markdown",
   "metadata": {},
   "source": [
    "### Calculate the expected portfolio return at the 95% lower and upper confidence intervals based on a `$20,000` initial investment."
   ]
  },
  {
   "cell_type": "code",
   "execution_count": 22,
   "metadata": {},
   "outputs": [
    {
     "name": "stdout",
     "output_type": "stream",
     "text": [
      "There is a 95% chance that an initial investment of $20000 in the portfolio over the next 30 years will end within in the range of $53645.39 and $606975.71\n"
     ]
    }
   ],
   "source": [
    "# Set initial investment\n",
    "initial_investment = 20000\n",
    "\n",
    "# Use the lower and upper `95%` confidence intervals to calculate the range of the possible outcomes of our $20,000\n",
    "ci_lower = round(tbl[8]*initial_investment,2)\n",
    "ci_upper = round(tbl[9]*initial_investment,2)\n",
    "\n",
    "# Print results\n",
    "print(f\"There is a 95% chance that an initial investment of ${initial_investment} in the portfolio\"\n",
    "      f\" over the next 30 years will end within in the range of\"\n",
    "      f\" ${ci_lower} and ${ci_upper}\")"
   ]
  },
  {
   "cell_type": "markdown",
   "metadata": {},
   "source": [
    "### Calculate the expected portfolio return at the `95%` lower and upper confidence intervals based on a `50%` increase in the initial investment."
   ]
  },
  {
   "cell_type": "code",
   "execution_count": 23,
   "metadata": {},
   "outputs": [
    {
     "name": "stdout",
     "output_type": "stream",
     "text": [
      "There is a 95% chance that an initial investment of $30000.0 in the portfolio over the next 30 years will end within in the range of $80468.08 and $910463.56\n"
     ]
    }
   ],
   "source": [
    "# Set initial investment\n",
    "initial_investment = 20000 * 1.5\n",
    "\n",
    "# Use the lower and upper `95%` confidence intervals to calculate the range of the possible outcomes of our $30,000\n",
    "ci_lower = round(tbl[8]*initial_investment,2)\n",
    "ci_upper = round(tbl[9]*initial_investment,2)\n",
    "\n",
    "# Print results\n",
    "print(f\"There is a 95% chance that an initial investment of ${initial_investment} in the portfolio\"\n",
    "      f\" over the next 30 years will end within in the range of\"\n",
    "      f\" ${ci_lower} and ${ci_upper}\")"
   ]
  },
  {
   "cell_type": "markdown",
   "metadata": {},
   "source": [
    "## Optional Challenge - Early Retirement\n",
    "\n",
    "\n",
    "### Five Years Retirement Option"
   ]
  },
  {
   "cell_type": "code",
   "execution_count": 24,
   "metadata": {},
   "outputs": [],
   "source": [
    "# Configuring a Monte Carlo simulation to forecast 5 years cumulative returns\n",
    "# YOUR CODE HERE!"
   ]
  },
  {
   "cell_type": "code",
   "execution_count": 25,
   "metadata": {},
   "outputs": [],
   "source": [
    "# Running a Monte Carlo simulation to forecast 5 years cumulative returns\n",
    "# YOUR CODE HERE!"
   ]
  },
  {
   "cell_type": "code",
   "execution_count": 26,
   "metadata": {},
   "outputs": [],
   "source": [
    "# Plot simulation outcomes\n",
    "# YOUR CODE HERE!"
   ]
  },
  {
   "cell_type": "code",
   "execution_count": 27,
   "metadata": {},
   "outputs": [],
   "source": [
    "# Plot probability distribution and confidence intervals\n",
    "# YOUR CODE HERE!"
   ]
  },
  {
   "cell_type": "code",
   "execution_count": 28,
   "metadata": {},
   "outputs": [],
   "source": [
    "# Fetch summary statistics from the Monte Carlo simulation results\n",
    "# YOUR CODE HERE!\n",
    "\n",
    "# Print summary statistics\n",
    "# YOUR CODE HERE!"
   ]
  },
  {
   "cell_type": "code",
   "execution_count": 31,
   "metadata": {},
   "outputs": [],
   "source": [
    "# Set initial investment\n",
    "# YOUR CODE HERE!\n",
    "\n",
    "# Use the lower and upper `95%` confidence intervals to calculate the range of the possible outcomes of our $60,000\n",
    "# YOUR CODE HERE!\n",
    "\n",
    "# Print results\n",
    "# print(f\"There is a 95% chance that an initial investment of ${initial_investment} in the portfolio\"\n",
    "#       f\" over the next 5 years will end within in the range of\"\n",
    "#       f\" ${ci_lower_five} and ${ci_upper_five}\")"
   ]
  },
  {
   "cell_type": "markdown",
   "metadata": {},
   "source": [
    "### Ten Years Retirement Option"
   ]
  },
  {
   "cell_type": "code",
   "execution_count": null,
   "metadata": {},
   "outputs": [],
   "source": [
    "# Configuring a Monte Carlo simulation to forecast 10 years cumulative returns\n",
    "# YOUR CODE HERE!"
   ]
  },
  {
   "cell_type": "code",
   "execution_count": null,
   "metadata": {},
   "outputs": [],
   "source": [
    "# Running a Monte Carlo simulation to forecast 10 years cumulative returns\n",
    "# YOUR CODE HERE!"
   ]
  },
  {
   "cell_type": "code",
   "execution_count": null,
   "metadata": {},
   "outputs": [],
   "source": [
    "# Plot simulation outcomes\n",
    "# YOUR CODE HERE!"
   ]
  },
  {
   "cell_type": "code",
   "execution_count": null,
   "metadata": {},
   "outputs": [],
   "source": [
    "# Plot probability distribution and confidence intervals\n",
    "# YOUR CODE HERE!"
   ]
  },
  {
   "cell_type": "code",
   "execution_count": null,
   "metadata": {},
   "outputs": [],
   "source": [
    "# Fetch summary statistics from the Monte Carlo simulation results\n",
    "# YOUR CODE HERE!\n",
    "\n",
    "# Print summary statistics\n",
    "# YOUR CODE HERE!"
   ]
  },
  {
   "cell_type": "code",
   "execution_count": null,
   "metadata": {},
   "outputs": [],
   "source": [
    "# Set initial investment\n",
    "# YOUR CODE HERE!\n",
    "\n",
    "# Use the lower and upper `95%` confidence intervals to calculate the range of the possible outcomes of our $60,000\n",
    "# YOUR CODE HERE!\n",
    "\n",
    "# Print results\n",
    "print(f\"There is a 95% chance that an initial investment of ${initial_investment} in the portfolio\"\n",
    "      f\" over the next 10 years will end within in the range of\"\n",
    "      f\" ${ci_lower_ten} and ${ci_upper_ten}\")"
   ]
  }
 ],
 "metadata": {
  "kernelspec": {
   "display_name": "Python 3",
   "language": "python",
   "name": "python3"
  },
  "language_info": {
   "codemirror_mode": {
    "name": "ipython",
    "version": 3
   },
   "file_extension": ".py",
   "mimetype": "text/x-python",
   "name": "python",
   "nbconvert_exporter": "python",
   "pygments_lexer": "ipython3",
   "version": "3.8.5"
  }
 },
 "nbformat": 4,
 "nbformat_minor": 4
}
